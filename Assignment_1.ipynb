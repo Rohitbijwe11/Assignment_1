{
 "cells": [
  {
   "cell_type": "code",
   "execution_count": null,
   "id": "fb42bedb-7057-4437-88be-33b6f467b100",
   "metadata": {},
   "outputs": [],
   "source": [
    "Q1=Python programming language was developed by Guido van Rossum in the late 1980s\n",
    "\n",
    "Q2=Object-Oriented Programming ,Imperative Programming,Functional Programming,Procedural Programming\n",
    "\n",
    "Q3=Yes, Python is case-sensitive when dealing with identifiers\n",
    "\n",
    "Q4=The correct extension for a Python file is (.py)\n",
    "\n",
    "Q5=Python code is interpreted\n",
    "\n",
    "Q6=if,for loop and while loop\n",
    "\n",
    "Q7=# is used to give single line comment\n",
    "\n",
    "Q8=To find the version of Python you are currently use by (sys) module\n",
    "\n",
    "Q9= lambda\n",
    "\n",
    "Q10=pip is installing the packages\n",
    "\n",
    "Q11=str(),print(),int(),range(),input()\n",
    "\n",
    "Q12=there are no limit but it should be no longer than 20 characters\n",
    "\n",
    "Q13=flexible,easy to lean and there library to pre built models\n",
    "\n",
    "Q14=memory managed by automatically\n",
    "\n",
    "Q15=download from wedsite and install then path should be set\n",
    "\n",
    "Q16="
   ]
  },
  {
   "cell_type": "code",
   "execution_count": null,
   "id": "1e1b56d3-67ce-434d-bf0e-837d3c92bca3",
   "metadata": {},
   "outputs": [],
   "source": []
  }
 ],
 "metadata": {
  "kernelspec": {
   "display_name": "Python 3 (ipykernel)",
   "language": "python",
   "name": "python3"
  },
  "language_info": {
   "codemirror_mode": {
    "name": "ipython",
    "version": 3
   },
   "file_extension": ".py",
   "mimetype": "text/x-python",
   "name": "python",
   "nbconvert_exporter": "python",
   "pygments_lexer": "ipython3",
   "version": "3.10.8"
  }
 },
 "nbformat": 4,
 "nbformat_minor": 5
}
